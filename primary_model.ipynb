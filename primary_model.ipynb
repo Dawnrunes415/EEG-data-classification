{
 "cells": [
  {
   "cell_type": "code",
   "execution_count": 1,
   "id": "55933246",
   "metadata": {},
   "outputs": [],
   "source": [
    "import numpy as np\n",
    "import torch.nn as nn \n",
    "from torchinfo import summary \n",
    "from torch.utils.data import DataLoader, Dataset \n",
    "from sklearn.metrics import accuracy_score \n",
    "import random \n",
    "import torch\n",
    "import matplotlib.pyplot as plt"
   ]
  },
  {
   "cell_type": "markdown",
   "id": "43cdd568",
   "metadata": {},
   "source": [
    "### Loading Data"
   ]
  },
  {
   "cell_type": "code",
   "execution_count": 4,
   "id": "8aeb53df",
   "metadata": {},
   "outputs": [],
   "source": [
    "data = np.load('processed_eeg_data.npz')\n",
    "X_train = data['X_train']\n",
    "X_val = data['X_val']\n",
    "y_train = data['y_train']\n",
    "y_val = data['y_val']"
   ]
  },
  {
   "cell_type": "code",
   "execution_count": null,
   "id": "aad436ab",
   "metadata": {},
   "outputs": [],
   "source": [
    "# Change data structure to tensor\n",
    "class EEGDataset(Dataset):\n",
    "    def __init__(self, X, y):\n",
    "        self.X = torch.tensor(X, dtype=torch.float32)\n",
    "        self.y = torch.tensor(y, dtype=torch.long)\n",
    "\n",
    "        # Calculate weights (4:1 downsampling ratio)\n",
    "        self.weights = torch.where(self.y == 1,\n",
    "                                   torch.tensor(1.0),   # seizure samples\n",
    "                                   torch.tensor(4.0))   # non- seizure samples\n",
    "\n",
    "    def __len__(self):\n",
    "        return len(self.X)\n",
    "    \n",
    "    def __getitem__(self, idx):\n",
    "        return self.X[idx], self.y[idx], self.weights[idx]"
   ]
  },
  {
   "cell_type": "markdown",
   "id": "66fc7995",
   "metadata": {},
   "source": [
    "### Models "
   ]
  },
  {
   "cell_type": "code",
   "execution_count": 6,
   "id": "870a0846",
   "metadata": {},
   "outputs": [
    {
     "data": {
      "text/plain": [
       "==========================================================================================\n",
       "Layer (type:depth-idx)                   Output Shape              Param #\n",
       "==========================================================================================\n",
       "CNNLSTM1                                 [1, 2]                    --\n",
       "├─Conv1d: 1-1                            [1, 32, 256]              2,240\n",
       "├─Conv1d: 1-2                            [1, 64, 256]              6,208\n",
       "├─LSTM: 1-3                              [1, 256, 128]             231,424\n",
       "├─Dropout: 1-4                           [1, 256, 128]             --\n",
       "├─LSTM: 1-5                              [1, 256, 64]              82,944\n",
       "├─Dropout: 1-6                           [1, 256, 64]              --\n",
       "├─Linear: 1-7                            [1, 32]                   2,080\n",
       "├─Linear: 1-8                            [1, 2]                    66\n",
       "==========================================================================================\n",
       "Total params: 324,962\n",
       "Trainable params: 324,962\n",
       "Non-trainable params: 0\n",
       "Total mult-adds (Units.MEGABYTES): 82.64\n",
       "==========================================================================================\n",
       "Input size (MB): 0.02\n",
       "Forward/backward pass size (MB): 0.59\n",
       "Params size (MB): 1.30\n",
       "Estimated Total Size (MB): 1.91\n",
       "=========================================================================================="
      ]
     },
     "execution_count": 6,
     "metadata": {},
     "output_type": "execute_result"
    }
   ],
   "source": [
    "class CNNLSTM1(nn.Module):\n",
    "# Input size is 8282*23*256 num samples x channels x time steps \n",
    "    def __init__(self, output_layers=32, kernel_size=3, dropout_rate=0.5):\n",
    "        super(CNNLSTM1, self).__init__()\n",
    "        self.conv1 = nn.Conv1d(23, output_layers, kernel_size, padding=1)\n",
    "        self.conv2 = nn.Conv1d(output_layers, output_layers*2, kernel_size, padding=1)\n",
    "        \n",
    "        self.lstm1 = nn.LSTM(output_layers*2, output_layers*4, num_layers=2, batch_first=True)\n",
    "        self.lstm2 = nn.LSTM(output_layers*4, 64, num_layers=2, batch_first=True)\n",
    "        \n",
    "        self.dropout = nn.Dropout(dropout_rate)\n",
    "        self.fc1 = nn.Linear(64, 32)\n",
    "        self.fc2 = nn.Linear(32, 2)\n",
    "    \n",
    "    def forward(self, x):\n",
    "        x = nn.ReLU()(self.conv1(x))\n",
    "        x = nn.ReLU()(self.conv2(x))\n",
    "        x = x.permute(0, 2, 1)\n",
    "\n",
    "        x, _ = self.lstm1(x)\n",
    "        x = self.dropout(x)\n",
    "        x, _ = self.lstm2(x)\n",
    "        x = self.dropout(x)\n",
    "        x = x[:, -1, :]  # Take the last time step\n",
    "\n",
    "        x = nn.ReLU()(self.fc1(x))\n",
    "        x = self.fc2(x)\n",
    "        return x\n",
    "\n",
    "summary(CNNLSTM1(), input_size=(1, 23, 256))"
   ]
  },
  {
   "cell_type": "code",
   "execution_count": null,
   "id": "2c49a44b",
   "metadata": {},
   "outputs": [],
   "source": [
    "class CNNLSTM2(nn.Module):\n",
    "    def __init__(self, conv_channels=32, kernel_size=3, dropout_rate=0.5):\n",
    "        super(CNNLSTM2, self).__init__()\n",
    "        self.conv1 = nn.Sequential(\n",
    "            nn.Conv1d(23, conv_channels, kernel_size=kernel_size, padding=1),\n",
    "            nn.BatchNorm1d(conv_channels),\n",
    "            nn.ReLU(),\n",
    "            nn.MaxPool1d(2)\n",
    "        )\n",
    "        self.conv2 = nn.Sequential(\n",
    "            nn.Conv1d(conv_channels, conv_channels*2, kernel_size=kernel_size, padding=1),\n",
    "            nn.BatchNorm1d(conv_channels*2),\n",
    "            nn.ReLU(),\n",
    "            nn.MaxPool1d(2)\n",
    "        )\n",
    "\n",
    "        self.lstm = nn.LSTM(input_size=conv_channels*2, hidden_size=128, num_layers=1, batch_first=True, bidirectional=True)\n",
    "\n",
    "        self.dropout = nn.Dropout(dropout_rate)\n",
    "        self.fc1 = nn.Linear(128*2, 64) \n",
    "        self.fc2 = nn.Linear(64, 2)\n",
    "\n",
    "    def forward(self, x):\n",
    "        x = self.conv1(x)  \n",
    "        x = self.conv2(x) \n",
    "        x = x.permute(0, 2, 1) \n",
    "        x, _ = self.lstm(x)\n",
    "        x = self.dropout(x[:, -1, :]) \n",
    "        x = nn.ReLU()(self.fc1(x))\n",
    "        return self.fc2(x)\n",
    "    \n",
    "summary(CNNLSTM2(), (23, 256))\n"
   ]
  },
  {
   "cell_type": "markdown",
   "id": "4bd68215",
   "metadata": {},
   "source": [
    "### Model Training"
   ]
  },
  {
   "cell_type": "code",
   "execution_count": 7,
   "id": "8c85022f",
   "metadata": {},
   "outputs": [],
   "source": [
    "def get_accuracy(model, data_loader):\n",
    "\n",
    "    correct = 0 \n",
    "    total = 0\n",
    "\n",
    "    model.eval()\n",
    "    with torch.no_grad(): \n",
    "        for inputs, labels in data_loader:\n",
    "            if torch.cuda.is_available():\n",
    "                inputs, labels = inputs.cuda(), labels.cuda()\n",
    "\n",
    "            outputs = model(inputs)\n",
    "            _, predicted = torch.max(outputs.data, 1)\n",
    "            correct += (predicted == labels).sum().item()\n",
    "            total += labels.size(0)\n",
    "\n",
    "    return correct / total \n"
   ]
  },
  {
   "cell_type": "code",
   "execution_count": null,
   "id": "63c4d151",
   "metadata": {},
   "outputs": [],
   "source": [
    "def train_model(model_class, output_layers=32, kernel_size=3, dropout_rate=0.5, learning_rate=0.005, batch_size=32, num_epoch=40):\n",
    "    model = model_class(\n",
    "        output_layers,\n",
    "        kernel_size,\n",
    "        dropout_rate\n",
    "    ).to('cuda' if torch.cuda.is_available() else 'cpu')\n",
    "\n",
    "    train_loader = DataLoader(EEGDataset(X_train, y_train), batch_size=batch_size, shuffle=True)\n",
    "    val_loader = DataLoader(EEGDataset(X_val, y_val), batch_size=batch_size, shuffle=False)\n",
    "\n",
    "    optimizer = torch.optim.Adam(model.parameters(), lr=learning_rate)\n",
    "    criterion = nn.CrossEntropyLoss() \n",
    "\n",
    "    train_loss, val_loss, train_acc, val_acc = [], [], [], []\n",
    "    for epoch in range(num_epoch):\n",
    "        model.train()\n",
    "        losses = 0.0\n",
    "        for inputs, labels, batch_weights in train_loader:\n",
    "            # Move date to device\n",
    "            inputs, labels = inputs.to('cuda' if torch.cuda.is_available() else 'cpu'), labels.to('cuda' if torch.cuda.is_available() else 'cpu')\n",
    "            batch_weights = batch_weights.to('cuda' if torch.cuda.is_available() else 'cpu')\n",
    "            \n",
    "            # Forward pass\n",
    "            optimizer.zero_grad()\n",
    "            outputs = model(inputs)\n",
    "            loss = criterion(outputs, labels)\n",
    "\n",
    "            # Apply weighting and bachpropagate\n",
    "            weighted_loss = (batch_weights * loss).mean()   # Element-wise weighting\n",
    "            weighted_loss.backward()\n",
    "            \n",
    "            # Update weights\n",
    "            optimizer.step()\n",
    "            losses += weighted_loss.item()\n",
    "        train_loss.append(losses / len(train_loader))\n",
    "        \n",
    "        model.eval()\n",
    "        losses = 0.0\n",
    "        with torch.no_grad():\n",
    "            for inputs, labels in val_loader:\n",
    "                inputs, labels = inputs.to('cuda' if torch.cuda.is_available() else 'cpu'), labels.to('cuda' if torch.cuda.is_available() else 'cpu')\n",
    "                outputs = model(inputs)\n",
    "                loss = criterion(outputs, labels)\n",
    "                losses += loss.item()\n",
    "        val_loss.append(losses / len(val_loader))\n",
    "\n",
    "\n",
    "        train_acc.append(get_accuracy(model, train_loader))\n",
    "        val_acc.append(get_accuracy(model, val_loader))\n",
    "\n",
    "    plt.figure(figsize=(12, 6))\n",
    "    plt.plot(train_loss, label='Training Loss', color='blue')\n",
    "    plt.plot(val_loss, label='Validation Loss', color='orange')\n",
    "\n",
    "    plt.xlabel('Epoch')\n",
    "    plt.ylabel('Loss')\n",
    "    plt.title('Training and Validation Loss per Epoch')\n",
    "    plt.legend()\n",
    "    plt.grid(True)\n",
    "    plt.show()"
   ]
  },
  {
   "cell_type": "code",
   "execution_count": null,
   "id": "ae631f8c",
   "metadata": {},
   "outputs": [
    {
     "data": {
      "image/png": "[encoded data removed]",
      "text/plain": [
       "<Figure size 1200x600 with 1 Axes>"
      ]
     },
     "metadata": {},
     "output_type": "display_data"
    }
   ],
   "source": [
    "train_model(CNNLSTM1, output_layers=32, kernel_size=3, dropout_rate=0.5, learning_rate=0.005, batch_size=32, num_epoch=40)\n",
    "\n",
    "\n",
    "# MACHINE NOT LEARNINGGGGG :("
   ]
  },
  {
   "cell_type": "markdown",
   "id": "1715ed06",
   "metadata": {},
   "source": [
    "### Hyperparameter Tuning"
   ]
  },
  {
   "cell_type": "code",
   "execution_count": null,
   "id": "9e1fe7e4",
   "metadata": {},
   "outputs": [],
   "source": [
    "search = {\n",
    "    'output_layers': [16, 32, 64],\n",
    "    'kernel_size': [3, 5, 7],\n",
    "    'dropout_rate': [0.2, 0.5, 0.7],\n",
    "    'learning_rate': [0.01, 0.005, 0.001, 0.0001],\n",
    "    'batch_size': [16, 32, 64, 128]\n",
    "}"
   ]
  }
 ],
 "metadata": {
  "kernelspec": {
   "display_name": "myenv",
   "language": "python",
   "name": "python3"
  },
  "language_info": {
   "codemirror_mode": {
    "name": "ipython",
    "version": 3
   },
   "file_extension": ".py",
   "mimetype": "text/x-python",
   "name": "python",
   "nbconvert_exporter": "python",
   "pygments_lexer": "ipython3",
   "version": "3.12.0"
  }
 },
 "nbformat": 4,
 "nbformat_minor": 5
}
