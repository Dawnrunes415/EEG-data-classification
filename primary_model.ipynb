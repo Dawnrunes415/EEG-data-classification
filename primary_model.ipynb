{
 "cells": [
  {
   "cell_type": "code",
   "execution_count": 1,
   "id": "55933246",
   "metadata": {},
   "outputs": [],
   "source": [
    "import numpy as np\n",
    "import torch.nn as nn \n",
    "from torchsummary import summary \n",
    "from torch.utils.data import DataLoader, Dataset \n",
    "from sklearn.metrics import accuracy_score \n",
    "import random \n",
    "import torch"
   ]
  },
  {
   "cell_type": "markdown",
   "id": "43cdd568",
   "metadata": {},
   "source": [
    "### Loading Data"
   ]
  },
  {
   "cell_type": "code",
   "execution_count": 2,
   "id": "8aeb53df",
   "metadata": {},
   "outputs": [],
   "source": [
    "data = np.load('processed_eeg_data.npz')\n",
    "X_train = data['X_train']\n",
    "X_val = data['X_val']\n",
    "y_train = data['y_train']\n",
    "y_val = data['y_val']"
   ]
  },
  {
   "cell_type": "code",
   "execution_count": null,
   "id": "aad436ab",
   "metadata": {},
   "outputs": [],
   "source": [
    "# Change data structure to tensor\n",
    "class EEGDataset(Dataset):\n",
    "    def __init__(self, X, y):\n",
    "        self.X = torch.tensor(X, dtype=torch.float32)\n",
    "        self.y = torch.tensor(y, dtype=torch.long)"
   ]
  },
  {
   "cell_type": "markdown",
   "id": "66fc7995",
   "metadata": {},
   "source": [
    "### Models "
   ]
  },
  {
   "cell_type": "code",
   "execution_count": null,
   "id": "870a0846",
   "metadata": {},
   "outputs": [],
   "source": [
    "class CNNLSTM1(nn.Module):\n",
    "# Input size is 8282*23*256 num samples x channels x time steps \n",
    "    def __init__(self, output_layers=32, kernel_size=3, dropout_rate=0.5):\n",
    "        super(CNNLSTM1, self).__init__()\n",
    "        self.conv1 = nn.Conv1d(23, output_layers, kernel_size, padding=1)\n",
    "        self.conv2 = nn.Conv1d(output_layers, output_layers*2, kernel_size, padding=1)\n",
    "        \n",
    "        self.lstm1 = nn.LSTM(output_layers*2, output_layers*4, num_layers=2, batch_first=True)\n",
    "        self.lstm2 = nn.LSTM(output_layers*4, 64, num_layers=2, batch_first=True)\n",
    "        \n",
    "        self.dropout = nn.Dropout(dropout_rate)\n",
    "        self.fc1 = nn.Linear(64, 32)\n",
    "        self.fc2 = nn.Linear(32, 2)\n",
    "    \n",
    "    def forward(self, x):\n",
    "        x = nn.ReLU()(self.conv1(x))\n",
    "        x = nn.ReLU()(self.conv2(x))\n",
    "        x = x.permute(0, 2, 1)\n",
    "\n",
    "        x, _ = self.lstm1(x)\n",
    "        x = self.dropout(x)\n",
    "        x, _ = self.lstm2(x)\n",
    "        x = self.dropout(x)\n",
    "        x = x[:, -1, :]  # Take the last time step\n",
    "\n",
    "        x = nn.ReLU()(self.fc1(x))\n",
    "        x = self.fc2(x)\n",
    "        return x\n",
    "\n",
    "\n",
    "summary(CNNLSTM1(), (23, 256))"
   ]
  },
  {
   "cell_type": "code",
   "execution_count": null,
   "id": "2c49a44b",
   "metadata": {},
   "outputs": [],
   "source": [
    "class CNNLSTM2(nn.Module):\n",
    "    def __init__(self, conv_channels=32, kernel_size=3, dropout_rate=0.5):\n",
    "        super(CNNLSTM2, self).__init__()\n",
    "        self.conv1 = nn.Sequential(\n",
    "            nn.Conv1d(23, conv_channels, kernel_size=kernel_size, padding=1),\n",
    "            nn.BatchNorm1d(conv_channels),\n",
    "            nn.ReLU(),\n",
    "            nn.MaxPool1d(2)\n",
    "        )\n",
    "        self.conv2 = nn.Sequential(\n",
    "            nn.Conv1d(conv_channels, conv_channels*2, kernel_size=kernel_size, padding=1),\n",
    "            nn.BatchNorm1d(conv_channels*2),\n",
    "            nn.ReLU(),\n",
    "            nn.MaxPool1d(2)\n",
    "        )\n",
    "\n",
    "        self.lstm = nn.LSTM(input_size=conv_channels*2, hidden_size=128, num_layers=1, batch_first=True, bidirectional=True)\n",
    "\n",
    "        self.dropout = nn.Dropout(dropout_rate)\n",
    "        self.fc1 = nn.Linear(128*2, 64) \n",
    "        self.fc2 = nn.Linear(64, 2)\n",
    "\n",
    "    def forward(self, x):\n",
    "        x = self.conv1(x)  \n",
    "        x = self.conv2(x) \n",
    "        x = x.permute(0, 2, 1) \n",
    "        x, _ = self.lstm(x)\n",
    "        x = self.dropout(x[:, -1, :]) \n",
    "        x = nn.ReLU()(self.fc1(x))\n",
    "        return self.fc2(x)\n",
    "    \n",
    "summary(CNNLSTM2(), (23, 256))\n"
   ]
  },
  {
   "cell_type": "markdown",
   "id": "4bd68215",
   "metadata": {},
   "source": [
    "### Model Training"
   ]
  },
  {
   "cell_type": "code",
   "execution_count": null,
   "id": "8c85022f",
   "metadata": {},
   "outputs": [],
   "source": [
    "def get_accuracy(model, data_loader):\n",
    "\n",
    "    correct = 0 \n",
    "    total = 0\n",
    "\n",
    "    model.eval()\n",
    "    with torch.no_grad(): \n",
    "        for inputs, labels in data_loader:\n",
    "            if torch.cuda.is_available():\n",
    "                inputs, labels = inputs.cuda(), labels.cuda()\n",
    "\n",
    "            outputs = model(inputs)\n",
    "            _, predicted = torch.max(outputs.data, 1)\n",
    "            correct += (predicted == labels).sum().item()\n",
    "            total += labels.size(0)\n",
    "\n",
    "    return correct / total \n"
   ]
  },
  {
   "cell_type": "code",
   "execution_count": null,
   "id": "63c4d151",
   "metadata": {},
   "outputs": [],
   "source": [
    "def train_model(output_layers=32, kernel_size=3, dropout_rate=0.5, learning_rate=0.005, batch_size=32, num_epoch=40, model_class):\n",
    "    model = model_class(\n",
    "        output_layers,\n",
    "        kernel_size,\n",
    "        dropout_rate\n",
    "    ).to('cuda' if torch.cuda.is_available() else 'cpu')\n",
    "\n",
    "    train_loader = DataLoader(EEGDataset(X_train, y_train), batch_size=batch_size, shuffle=True)\n",
    "    val_loader = DataLoader(EEGDataset(X_val, y_val), batch_size=batch_size, shuffle=False)\n",
    "\n",
    "    optimizer = torch.optim.Adam(model.parameters(), lr=learning_rate)\n",
    "    criterion = nn.CrossEntropyLoss() \n",
    "\n",
    "    losses, train_acc, val_acc = [], [], []\n",
    "    for epoch in range(num_epoch):\n",
    "        model.train()\n",
    "        for inputs, labels in train_loader:\n",
    "            inputs, labels = inputs.to('cuda' if torch.cuda.is_available() else 'cpu'), labels.to('cuda' if torch.cuda.is_available() else 'cpu')\n",
    "            optimizer.zero_grad()\n",
    "            outputs = model(inputs)\n",
    "            loss = criterion(outputs, labels)\n",
    "            loss.backward()\n",
    "            optimizer.step()\n",
    "\n",
    "            losses.append(float(loss)/batch_size)\n",
    "        \n",
    "        model.eval()\n",
    "        train_acc.append(get_accuracy(model, train_loader))\n",
    "        val_acc.append(get_accuracy(model, val_loader))\n",
    "\n"
   ]
  },
  {
   "cell_type": "markdown",
   "id": "1715ed06",
   "metadata": {},
   "source": [
    "### Hyperparameter Tuning"
   ]
  },
  {
   "cell_type": "code",
   "execution_count": null,
   "id": "9e1fe7e4",
   "metadata": {},
   "outputs": [],
   "source": [
    "search = {\n",
    "    'output_layers': [16, 32, 64],\n",
    "    'kernel_size': [3, 5, 7],\n",
    "    'dropout_rate': [0.2, 0.5, 0.7],\n",
    "    'learning_rate': [0.01, 0.005, 0.001, 0.0001],\n",
    "    'batch_size': [16, 32, 64, 128]\n",
    "}"
   ]
  }
 ],
 "metadata": {
  "kernelspec": {
   "display_name": "Python 3",
   "language": "python",
   "name": "python3"
  },
  "language_info": {
   "codemirror_mode": {
    "name": "ipython",
    "version": 3
   },
   "file_extension": ".py",
   "mimetype": "text/x-python",
   "name": "python",
   "nbconvert_exporter": "python",
   "pygments_lexer": "ipython3",
   "version": "3.12.0"
  }
 },
 "nbformat": 4,
 "nbformat_minor": 5
}
