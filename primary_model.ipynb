{
 "cells": [
  {
   "cell_type": "code",
   "execution_count": null,
   "id": "55933246",
   "metadata": {},
   "outputs": [],
   "source": [
    "import numpy as np\n",
    "import torch.nn as nn \n",
    "from torchsummary import summary \n"
   ]
  },
  {
   "cell_type": "markdown",
   "id": "43cdd568",
   "metadata": {},
   "source": [
    "### Loading Data"
   ]
  },
  {
   "cell_type": "code",
   "execution_count": null,
   "id": "8aeb53df",
   "metadata": {},
   "outputs": [],
   "source": [
    "data = np.load('processed_eeg_data.npz')\n",
    "X_train = data['X_train']\n",
    "X_val = data['X_val']\n",
    "y_train = data['y_train']\n",
    "y_val = data['y_val']"
   ]
  },
  {
   "cell_type": "code",
   "execution_count": null,
   "id": "870a0846",
   "metadata": {},
   "outputs": [],
   "source": [
    "class CNNLSTM(nn.Module):\n",
    "# Input size is 8282*23*256 num samples x channels x time steps \n",
    "    def __init__(self, ):\n",
    "        super(CNNLSTM, self).__init__()\n",
    "        self.conv1 = nn.Conv1d(23, 16, 3, padding=1)\n",
    "        self.conv2 = nn.Conv1d(16, 32, 3, padding=1)\n",
    "        self.lstm1 = nn.LSTM(32, 64, num_layers=2, batch_first=True)\n",
    "        self.lstm2 = nn.LSTM(64, 64, num_layers=2, batch_first=True)\n",
    "        self.fc1 = nn.Linear(64, 32)\n",
    "        self.fc2 = nn.Linear(32, 2)\n",
    "\n",
    "    def forward(self, x):\n",
    "        x = nn.ReLU()(self.conv1(x))\n",
    "        x = nn.ReLU()(self.conv2(x))\n",
    "        x = x.permute(0, 2, 1)\n",
    "\n",
    "        x, _ = self.lstm1(x)\n",
    "        x = nn.dropout(x, p=0.5)\n",
    "        x, _ = self.lstm2(x)\n",
    "        x = nn.dropout(x, p=0.5)\n",
    "        x = x[:, -1, :]  # Take the last time step\n",
    "\n",
    "        x = nn.ReLU()(self.fc1(x))\n",
    "        x = self.fc2(x)\n",
    "        return x\n"
   ]
  }
 ],
 "metadata": {
  "language_info": {
   "name": "python"
  }
 },
 "nbformat": 4,
 "nbformat_minor": 5
}
