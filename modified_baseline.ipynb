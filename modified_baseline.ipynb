{
 "cells": [
  {
   "cell_type": "code",
   "execution_count": 3,
   "id": "b51c533a",
   "metadata": {},
   "outputs": [],
   "source": [
    "import numpy as np\n",
    "from sklearn import svm\n",
    "from sklearn.model_selection import cross_val_predict\n",
    "from sklearn.metrics import classification_report"
   ]
  },
  {
   "cell_type": "markdown",
   "id": "2293e794",
   "metadata": {},
   "source": [
    "### Loading Data"
   ]
  },
  {
   "cell_type": "code",
   "execution_count": null,
   "id": "b2d6c99d",
   "metadata": {},
   "outputs": [],
   "source": [
    "data = np.load('processed_eeg_data.npz')\n",
    "X_train = data['X_train']\n",
    "X_val = data['X_val']\n",
    "y_train = data['y_train']\n",
    "y_val = data['y_val']"
   ]
  },
  {
   "cell_type": "markdown",
   "id": "86c30ca3",
   "metadata": {},
   "source": [
    "### SVM Modeling"
   ]
  },
  {
   "cell_type": "code",
   "execution_count": null,
   "id": "189ac41a",
   "metadata": {},
   "outputs": [],
   "source": [
    "# Support Vector Classfier (a type of SVM), uses linear decision boundary\n",
    "clf = svm.SVC(kernel=\"linear\",probability=True)\n",
    "\n",
    "# Flatten the datasets to 2D as SVC expects 2D array input\n",
    "X_train = X_train.reshape(X_train.shape[0], -1)\n",
    "y_train = y_train.reshape(y_train.shape[0], -1)\n",
    "\n",
    "# Fits SVM on the training data, \n",
    "# I don't know why they are doing this as the next line re-fits the model.\n",
    "clf.fit(X_train, y_train)\n",
    "\n",
    "# k-fold cross validation with 10 folds\n",
    "y_pred = cross_val_predict(clf, X_val, y_val, cv=10)\n",
    "print(\"All features are included\\n\", classification_report(y_val, y_pred))"
   ]
  }
 ],
 "metadata": {
  "kernelspec": {
   "display_name": "base",
   "language": "python",
   "name": "python3"
  },
  "language_info": {
   "codemirror_mode": {
    "name": "ipython",
    "version": 3
   },
   "file_extension": ".py",
   "mimetype": "text/x-python",
   "name": "python",
   "nbconvert_exporter": "python",
   "pygments_lexer": "ipython3",
   "version": "3.9.13"
  }
 },
 "nbformat": 4,
 "nbformat_minor": 5
}
