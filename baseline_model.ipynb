{
 "cells": [
  {
   "cell_type": "code",
   "execution_count": 31,
   "id": "b51c533a",
   "metadata": {},
   "outputs": [],
   "source": [
    "import pandas as pd\n",
    "import numpy as np\n",
    "from sklearn import svm\n",
    "from sklearn.model_selection import cross_val_predict\n",
    "from sklearn.metrics import classification_report"
   ]
  },
  {
   "cell_type": "markdown",
   "id": "2293e794",
   "metadata": {},
   "source": [
    "### Loading Data"
   ]
  },
  {
   "cell_type": "code",
   "execution_count": 32,
   "id": "b2d6c99d",
   "metadata": {},
   "outputs": [],
   "source": [
    "data = np.load('processed_eeg_data.npz')\n",
    "X_train = data['X_train']\n",
    "X_val = data['X_val']\n",
    "y_train = data['y_train']\n",
    "y_val = data['y_val']"
   ]
  },
  {
   "cell_type": "markdown",
   "id": "9fa1ea78",
   "metadata": {},
   "source": [
    "### Calculating Hurst Scores"
   ]
  },
  {
   "cell_type": "code",
   "execution_count": 33,
   "id": "23dd5c85",
   "metadata": {},
   "outputs": [],
   "source": [
    "import hurst\n",
    "from hurst import compute_Hc\n",
    "\n"
   ]
  },
  {
   "cell_type": "code",
   "execution_count": 44,
   "id": "22a4ebac",
   "metadata": {},
   "outputs": [
    {
     "name": "stdout",
     "output_type": "stream",
     "text": [
      "(8282, 5888)\n",
      "(8282, 23, 256)\n",
      "Processed 0 samples\n",
      "Processed 100 samples\n",
      "Processed 200 samples\n",
      "Processed 300 samples\n",
      "Processed 400 samples\n",
      "Processed 500 samples\n",
      "Processed 600 samples\n",
      "Processed 700 samples\n",
      "Processed 800 samples\n",
      "Processed 900 samples\n",
      "Processed 1000 samples\n",
      "Processed 1100 samples\n",
      "Processed 1200 samples\n",
      "Processed 1300 samples\n",
      "Processed 1400 samples\n",
      "Processed 1500 samples\n",
      "Processed 1600 samples\n",
      "Processed 1700 samples\n",
      "Processed 1800 samples\n",
      "Processed 1900 samples\n",
      "Processed 2000 samples\n",
      "Processed 2100 samples\n",
      "Processed 2200 samples\n",
      "Processed 2300 samples\n",
      "Processed 2400 samples\n",
      "Processed 2500 samples\n",
      "Processed 2600 samples\n",
      "Processed 2700 samples\n",
      "Processed 2800 samples\n",
      "Processed 2900 samples\n",
      "Processed 3000 samples\n",
      "Processed 3100 samples\n",
      "Processed 3200 samples\n",
      "Processed 3300 samples\n",
      "Processed 3400 samples\n",
      "Processed 3500 samples\n",
      "Processed 3600 samples\n",
      "Processed 3700 samples\n",
      "Processed 3800 samples\n",
      "Processed 3900 samples\n",
      "Processed 4000 samples\n",
      "Processed 4100 samples\n",
      "Processed 4200 samples\n",
      "Processed 4300 samples\n",
      "Processed 4400 samples\n",
      "Processed 4500 samples\n",
      "Processed 4600 samples\n",
      "Processed 4700 samples\n",
      "Processed 4800 samples\n",
      "Processed 4900 samples\n",
      "Processed 5000 samples\n",
      "Processed 5100 samples\n",
      "Processed 5200 samples\n",
      "Processed 5300 samples\n",
      "Processed 5400 samples\n",
      "Processed 5500 samples\n",
      "Processed 5600 samples\n",
      "Processed 5700 samples\n",
      "Processed 5800 samples\n",
      "Processed 5900 samples\n",
      "Processed 6000 samples\n",
      "Processed 6100 samples\n",
      "Processed 6200 samples\n",
      "Processed 6300 samples\n",
      "Processed 6400 samples\n",
      "Processed 6500 samples\n",
      "Processed 6600 samples\n",
      "Processed 6700 samples\n",
      "Processed 6800 samples\n",
      "Processed 6900 samples\n",
      "Processed 7000 samples\n",
      "Processed 7100 samples\n",
      "Processed 7200 samples\n",
      "Processed 7300 samples\n",
      "Processed 7400 samples\n",
      "Processed 7500 samples\n",
      "Processed 7600 samples\n",
      "Processed 7700 samples\n",
      "Processed 7800 samples\n",
      "Processed 7900 samples\n",
      "Processed 8000 samples\n",
      "Processed 8100 samples\n",
      "Processed 8200 samples\n"
     ]
    }
   ],
   "source": [
    "df = pd.DataFrame(X_train.reshape(X_train.shape[0], -1))\n",
    "print(df.shape)\n",
    "print(X_train.shape)\n",
    "\n",
    "hurst_train_exp = np.empty((X_train.shape[0], X_train.shape[1]))\n",
    "hurst_train_const = np.empty((X_train.shape[0], X_train.shape[1]))\n",
    "\n",
    "for i in range(X_train.shape[0]):\n",
    "    for j in range(X_train.shape[1]):\n",
    "        hurst_train_exp[i, j], hurst_train_const[i,j], _ = compute_Hc(X_train[i, j], kind='change', simplified=True)\n",
    "\n",
    "\n",
    "    \n",
    "    if i % 100 == 0:\n",
    "        print(f\"Processed {i} samples\")\n"
   ]
  },
  {
   "cell_type": "code",
   "execution_count": 47,
   "id": "c57d632e",
   "metadata": {},
   "outputs": [
    {
     "data": {
      "text/plain": [
       "((8282, 23), (8282, 23))"
      ]
     },
     "execution_count": 47,
     "metadata": {},
     "output_type": "execute_result"
    }
   ],
   "source": [
    "hurst_train_exp.shape, hurst_train_const.shape"
   ]
  },
  {
   "cell_type": "markdown",
   "id": "86c30ca3",
   "metadata": {},
   "source": [
    "### SVM Modeling"
   ]
  },
  {
   "cell_type": "code",
   "execution_count": null,
   "id": "189ac41a",
   "metadata": {},
   "outputs": [
    {
     "name": "stderr",
     "output_type": "stream",
     "text": [
      "C:\\Users\\andre\\AppData\\Roaming\\Python\\Python313\\site-packages\\sklearn\\utils\\validation.py:1406: DataConversionWarning: A column-vector y was passed when a 1d array was expected. Please change the shape of y to (n_samples, ), for example using ravel().\n",
      "  y = column_or_1d(y, warn=True)\n"
     ]
    }
   ],
   "source": [
    "# Support Vector Classfier (a type of SVM), uses linear decision boundary\n",
    "clf = svm.SVC(kernel=\"linear\",probability=True)\n",
    "\n",
    "# Flatten the datasets to 2D as SVC expects 2D array input\n",
    "X_train = X_train.reshape(X_train.shape[0], -1)\n",
    "y_train = y_train.reshape(y_train.shape[0], -1)\n",
    "\n",
    "# Fits SVM on the training data, \n",
    "# I don't know why they are doing this as the next line re-fits the model.\n",
    "clf.fit(X_train, y_train)\n",
    "\n",
    "# k-fold cross validation with 10 folds\n",
    "y_pred = cross_val_predict(clf, X_val, y_val, cv=10)\n",
    "print(\"All features are included\\n\", classification_report(y_val, y_pred))"
   ]
  }
 ],
 "metadata": {
  "kernelspec": {
   "display_name": "Python 3",
   "language": "python",
   "name": "python3"
  },
  "language_info": {
   "codemirror_mode": {
    "name": "ipython",
    "version": 3
   },
   "file_extension": ".py",
   "mimetype": "text/x-python",
   "name": "python",
   "nbconvert_exporter": "python",
   "pygments_lexer": "ipython3",
   "version": "3.13.1"
  }
 },
 "nbformat": 4,
 "nbformat_minor": 5
}
